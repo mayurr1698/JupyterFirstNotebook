{
 "cells": [
  {
   "cell_type": "markdown",
   "id": "f5961473-b9c7-4a2e-b3e3-cbc4411e3d87",
   "metadata": {},
   "source": [
    "# Data Science Tools and Ecosystem"
   ]
  },
  {
   "cell_type": "markdown",
   "id": "82dd0596-88c1-4a58-9503-9bbaf1ba9d0c",
   "metadata": {},
   "source": [
    "In this notebook, Data Science Tools and Ecosystem are summarized. Here we talked about the assignment given as part of the IBM course."
   ]
  },
  {
   "cell_type": "markdown",
   "id": "aaf8e566-faf2-488d-99ff-ad958d53a283",
   "metadata": {},
   "source": [
    "__Objectives__:\n",
    "- List popular languages for Data Science\n",
    "- DS Tools\n",
    "- DS Libraries\n",
    "- Arithmetic operations"
   ]
  },
  {
   "cell_type": "markdown",
   "id": "df09ba60-2bd2-449d-85cb-7e0abbe6c6c8",
   "metadata": {
    "tags": []
   },
   "source": [
    "Some of the popular languages that Data Scientists use are:\n",
    "1. Python\n",
    "2. Java\n",
    "3. Julia\n",
    "4. R"
   ]
  },
  {
   "cell_type": "markdown",
   "id": "086fe7fc-a5a9-4f10-a85a-3ee245acbc1e",
   "metadata": {},
   "source": [
    "Some of the commonly used libraries used by Data Scientists include:\n",
    "1. Numpy\n",
    "2. Pandas\n",
    "3. Keras\n",
    "4. TensorFlow\n"
   ]
  },
  {
   "cell_type": "markdown",
   "id": "e9b8d772-7181-40fd-9a1b-f29479588698",
   "metadata": {},
   "source": [
    "| **Data Science Tools** |\n",
    "| ---- |\n",
    "| Hadoop |\n",
    "| Anaconda|\n",
    "| Jupyter |"
   ]
  },
  {
   "cell_type": "markdown",
   "id": "f8b7ab63-e13b-4d0b-bf78-c3405ce0d9e9",
   "metadata": {},
   "source": [
    "### Below are a few examples of evaluating arithmetic expressions in Python"
   ]
  },
  {
   "cell_type": "code",
   "execution_count": 3,
   "id": "9a30af20-6838-45db-b478-789358ddbc52",
   "metadata": {
    "tags": []
   },
   "outputs": [
    {
     "data": {
      "text/plain": [
       "17"
      ]
     },
     "execution_count": 3,
     "metadata": {},
     "output_type": "execute_result"
    }
   ],
   "source": [
    "# This a simple arithmetic expression to mutiply then add integers\n",
    "(3*4)+5"
   ]
  },
  {
   "cell_type": "code",
   "execution_count": 4,
   "id": "58f1733f-8772-42c6-b30d-85cbd8837cd1",
   "metadata": {
    "tags": []
   },
   "outputs": [
    {
     "data": {
      "text/plain": [
       "3.3333333333333335"
      ]
     },
     "execution_count": 4,
     "metadata": {},
     "output_type": "execute_result"
    }
   ],
   "source": [
    "# This will convert 200 minutes to hours by diving by 60\n",
    "200 / 60"
   ]
  },
  {
   "cell_type": "markdown",
   "id": "be11b6b9-4435-4445-9523-04105a67180b",
   "metadata": {},
   "source": [
    "## Author\n",
    "**Mayur Raut**"
   ]
  },
  {
   "cell_type": "code",
   "execution_count": null,
   "id": "10e213bc-84e0-46c7-a47d-475e72411222",
   "metadata": {},
   "outputs": [],
   "source": []
  }
 ],
 "metadata": {
  "kernelspec": {
   "display_name": "Python",
   "language": "python",
   "name": "conda-env-python-py"
  },
  "language_info": {
   "codemirror_mode": {
    "name": "ipython",
    "version": 3
   },
   "file_extension": ".py",
   "mimetype": "text/x-python",
   "name": "python",
   "nbconvert_exporter": "python",
   "pygments_lexer": "ipython3",
   "version": "3.7.12"
  }
 },
 "nbformat": 4,
 "nbformat_minor": 5
}
